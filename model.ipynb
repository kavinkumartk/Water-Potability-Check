{
 "cells": [
  {
   "cell_type": "code",
   "execution_count": 91,
   "id": "24b10200",
   "metadata": {},
   "outputs": [
    {
     "name": "stdout",
     "output_type": "stream",
     "text": [
      "Logistic Regression Performance:\n",
      "Accuracy:  0.6098\n",
      "Precision: 0.0000\n",
      "Recall:    0.0000\n",
      "F1 Score:  0.0000\n",
      "ROC-AUC:   0.5484\n"
     ]
    },
    {
     "name": "stderr",
     "output_type": "stream",
     "text": [
      "c:\\Users\\kavin\\anaconda4\\Lib\\site-packages\\sklearn\\metrics\\_classification.py:1565: UndefinedMetricWarning: Precision is ill-defined and being set to 0.0 due to no predicted samples. Use `zero_division` parameter to control this behavior.\n",
      "  _warn_prf(average, modifier, f\"{metric.capitalize()} is\", len(result))\n"
     ]
    }
   ],
   "source": [
    "import pandas as pd\n",
    "import matplotlib.pyplot as plt\n",
    "from sklearn.metrics import accuracy_score, roc_auc_score, roc_curve\n",
    "from sklearn.model_selection import train_test_split\n",
    "from sklearn.neighbors import KNeighborsClassifier\n",
    "from sklearn.preprocessing import StandardScaler, PowerTransformer\n",
    "from sklearn.linear_model import LogisticRegression\n",
    "from sklearn.svm import SVC\n",
    "from sklearn.tree import DecisionTreeClassifier\n",
    "from sklearn.ensemble import RandomForestClassifier\n",
    "from sklearn.naive_bayes import GaussianNB\n",
    "from sklearn.ensemble import GradientBoostingClassifier\n",
    "from sklearn.ensemble import AdaBoostClassifier\n",
    "from sklearn.metrics import accuracy_score, precision_score, recall_score, f1_score, roc_auc_score\n",
    "\n",
    "\n",
    "df = pd.read_csv(r\"C:\\Users\\kavin\\OneDrive\\Desktop\\End to end\\cleaned_water_potability.csv\")\n",
    "\n",
    "X = df.drop(columns=\"Potability\")\n",
    "y = df[\"Potability\"]\n",
    "\n",
    "X_train, X_test, y_train, y_test = train_test_split(X, y, test_size=0.2, random_state=42, stratify=y)\n",
    "\n",
    "\n",
    "scaler = StandardScaler()\n",
    "X_train = scaler.fit_transform(X_train)\n",
    "X_test = scaler.transform(X_test)\n",
    "\n",
    "\n",
    "model = LogisticRegression()\n",
    "model.fit(X_train, y_train)\n",
    "\n",
    "y_pred = model.predict(X_test)\n",
    "y_proba = model.predict_proba(X_test)[:, 1]\n",
    "\n",
    "print(\"Logistic Regression Performance:\")\n",
    "print(f\"Accuracy:  {accuracy_score(y_test, y_pred):.4f}\")\n",
    "print(f\"Precision: {precision_score(y_test, y_pred):.4f}\")\n",
    "print(f\"Recall:    {recall_score(y_test, y_pred):.4f}\")\n",
    "print(f\"F1 Score:  {f1_score(y_test, y_pred):.4f}\")\n",
    "print(f\"ROC-AUC:   {roc_auc_score(y_test, y_proba):.4f}\")\n"
   ]
  },
  {
   "cell_type": "code",
   "execution_count": 77,
   "id": "542e59b3",
   "metadata": {},
   "outputs": [
    {
     "name": "stdout",
     "output_type": "stream",
     "text": [
      "Logistic Regression (L1) Performance:\n",
      "Accuracy:  0.6098\n",
      "Precision: 0.0000\n",
      "Recall:    0.0000\n",
      "F1 Score:  0.0000\n",
      "ROC-AUC:   0.5485\n"
     ]
    },
    {
     "name": "stderr",
     "output_type": "stream",
     "text": [
      "c:\\Users\\kavin\\anaconda4\\Lib\\site-packages\\sklearn\\metrics\\_classification.py:1565: UndefinedMetricWarning: Precision is ill-defined and being set to 0.0 due to no predicted samples. Use `zero_division` parameter to control this behavior.\n",
      "  _warn_prf(average, modifier, f\"{metric.capitalize()} is\", len(result))\n"
     ]
    }
   ],
   "source": [
    "logreg_l1 = LogisticRegression(penalty=\"l1\", solver=\"liblinear\", C=1.0, random_state=42)\n",
    "logreg_l1.fit(X_train, y_train)\n",
    "\n",
    "y_pred_l1 = logreg_l1.predict(X_test)\n",
    "y_proba_l1 = logreg_l1.predict_proba(X_test)[:, 1]\n",
    "\n",
    "print(\"Logistic Regression (L1) Performance:\")\n",
    "print(f\"Accuracy:  {accuracy_score(y_test, y_pred_l1):.4f}\")\n",
    "print(f\"Precision: {precision_score(y_test, y_pred_l1):.4f}\")\n",
    "print(f\"Recall:    {recall_score(y_test, y_pred_l1):.4f}\")\n",
    "print(f\"F1 Score:  {f1_score(y_test, y_pred_l1):.4f}\")\n",
    "print(f\"ROC-AUC:   {roc_auc_score(y_test, y_proba_l1):.4f}\")\n"
   ]
  },
  {
   "cell_type": "code",
   "execution_count": 78,
   "id": "c0fdd4ce",
   "metadata": {},
   "outputs": [
    {
     "name": "stdout",
     "output_type": "stream",
     "text": [
      "\n",
      "Logistic Regression (L2) Performance:\n",
      "Accuracy:  0.6098\n",
      "Precision: 0.0000\n",
      "Recall:    0.0000\n",
      "F1 Score:  0.0000\n",
      "ROC-AUC:   0.5484\n"
     ]
    },
    {
     "name": "stderr",
     "output_type": "stream",
     "text": [
      "c:\\Users\\kavin\\anaconda4\\Lib\\site-packages\\sklearn\\metrics\\_classification.py:1565: UndefinedMetricWarning: Precision is ill-defined and being set to 0.0 due to no predicted samples. Use `zero_division` parameter to control this behavior.\n",
      "  _warn_prf(average, modifier, f\"{metric.capitalize()} is\", len(result))\n"
     ]
    }
   ],
   "source": [
    "logreg_l2 = LogisticRegression(penalty=\"l2\", solver=\"lbfgs\", C=1.0, max_iter=1000, random_state=42)\n",
    "logreg_l2.fit(X_train, y_train)\n",
    "\n",
    "y_pred_l2 = logreg_l2.predict(X_test)\n",
    "y_proba_l2 = logreg_l2.predict_proba(X_test)[:, 1]\n",
    "\n",
    "print(\"\\nLogistic Regression (L2) Performance:\")\n",
    "print(f\"Accuracy:  {accuracy_score(y_test, y_pred_l2):.4f}\")\n",
    "print(f\"Precision: {precision_score(y_test, y_pred_l2):.4f}\")\n",
    "print(f\"Recall:    {recall_score(y_test, y_pred_l2):.4f}\")\n",
    "print(f\"F1 Score:  {f1_score(y_test, y_pred_l2):.4f}\")\n",
    "print(f\"ROC-AUC:   {roc_auc_score(y_test, y_proba_l2):.4f}\")\n"
   ]
  },
  {
   "cell_type": "code",
   "execution_count": 79,
   "id": "aef64f17",
   "metadata": {},
   "outputs": [
    {
     "name": "stdout",
     "output_type": "stream",
     "text": [
      "KNN Classifier Performance:\n",
      "Accuracy:  0.6113\n",
      "Precision: 0.5031\n",
      "Recall:    0.3203\n",
      "F1 Score:  0.3914\n",
      "ROC-AUC:   0.5991\n"
     ]
    }
   ],
   "source": [
    "knn = KNeighborsClassifier(n_neighbors=5)\n",
    "knn.fit(X_train, y_train)\n",
    "\n",
    "y_pred_knn = knn.predict(X_test)\n",
    "y_proba_knn = knn.predict_proba(X_test)[:, 1]\n",
    "\n",
    "print(\"KNN Classifier Performance:\")\n",
    "print(f\"Accuracy:  {accuracy_score(y_test, y_pred_knn):.4f}\")\n",
    "print(f\"Precision: {precision_score(y_test, y_pred_knn):.4f}\")\n",
    "print(f\"Recall:    {recall_score(y_test, y_pred_knn):.4f}\")\n",
    "print(f\"F1 Score:  {f1_score(y_test, y_pred_knn):.4f}\")\n",
    "print(f\"ROC-AUC:   {roc_auc_score(y_test, y_proba_knn):.4f}\")\n"
   ]
  },
  {
   "cell_type": "code",
   "execution_count": 89,
   "id": "f3b7a33f",
   "metadata": {},
   "outputs": [
    {
     "name": "stdout",
     "output_type": "stream",
     "text": [
      "SVM Classifier Performance:\n",
      "Accuracy:  0.6692\n",
      "Precision: 0.6970\n",
      "Recall:    0.2695\n",
      "F1 Score:  0.3887\n",
      "ROC-AUC:   0.6481\n"
     ]
    }
   ],
   "source": [
    "svm = SVC(kernel=\"rbf\",probability=True, random_state=42)\n",
    "svm.fit(X_train, y_train)\n",
    "\n",
    "\n",
    "y_pred_svm = svm.predict(X_test)\n",
    "y_proba_svm = svm.predict_proba(X_test)[:, 1]\n",
    "\n",
    "\n",
    "print(\"SVM Classifier Performance:\")\n",
    "print(f\"Accuracy:  {accuracy_score(y_test, y_pred_svm):.4f}\")\n",
    "print(f\"Precision: {precision_score(y_test, y_pred_svm):.4f}\")\n",
    "print(f\"Recall:    {recall_score(y_test, y_pred_svm):.4f}\")\n",
    "print(f\"F1 Score:  {f1_score(y_test, y_pred_svm):.4f}\")\n",
    "print(f\"ROC-AUC:   {roc_auc_score(y_test, y_proba_svm):.4f}\")"
   ]
  },
  {
   "cell_type": "code",
   "execution_count": 81,
   "id": "69f49ff2",
   "metadata": {},
   "outputs": [
    {
     "name": "stdout",
     "output_type": "stream",
     "text": [
      "Decision Tree Performance:\n",
      "Accuracy:  0.6326\n",
      "Precision: 0.6119\n",
      "Recall:    0.1602\n",
      "F1 Score:  0.2539\n",
      "ROC-AUC:   0.5656\n"
     ]
    }
   ],
   "source": [
    "dt = DecisionTreeClassifier(\n",
    "    criterion=\"gini\",max_depth=3,random_state=42)\n",
    "dt.fit(X_train, y_train)\n",
    "\n",
    "\n",
    "y_pred_dt = dt.predict(X_test)\n",
    "y_proba_dt = dt.predict_proba(X_test)[:, 1]\n",
    "\n",
    "print(\"Decision Tree Performance:\")\n",
    "print(f\"Accuracy:  {accuracy_score(y_test, y_pred_dt):.4f}\")\n",
    "print(f\"Precision: {precision_score(y_test, y_pred_dt):.4f}\")\n",
    "print(f\"Recall:    {recall_score(y_test, y_pred_dt):.4f}\")\n",
    "print(f\"F1 Score:  {f1_score(y_test, y_pred_dt):.4f}\")\n",
    "print(f\"ROC-AUC:   {roc_auc_score(y_test, y_proba_dt):.4f}\")"
   ]
  },
  {
   "cell_type": "code",
   "execution_count": null,
   "id": "44754a1c",
   "metadata": {},
   "outputs": [
    {
     "name": "stdout",
     "output_type": "stream",
     "text": [
      "Random Forest Performance:\n",
      "Accuracy:  0.6555\n",
      "Precision: 0.6154\n",
      "Recall:    0.3125\n",
      "F1 Score:  0.4145\n",
      "ROC-AUC:   0.6430\n"
     ]
    }
   ],
   "source": [
    "rf = RandomForestClassifier(n_estimators=100,criterion=\"gini\",  max_depth=None,random_state=42)\n",
    "rf.fit(X_train, y_train)\n",
    "\n",
    "y_pred_rf = rf.predict(X_test)\n",
    "y_proba_rf = rf.predict_proba(X_test)[:, 1]\n",
    "\n",
    "\n",
    "print(\"Random Forest Performance:\")\n",
    "print(f\"Accuracy:  {accuracy_score(y_test, y_pred_rf):.4f}\")\n",
    "print(f\"Precision: {precision_score(y_test, y_pred_rf):.4f}\")\n",
    "print(f\"Recall:    {recall_score(y_test, y_pred_rf):.4f}\")\n",
    "print(f\"F1 Score:  {f1_score(y_test, y_pred_rf):.4f}\")\n",
    "print(f\"ROC-AUC:   {roc_auc_score(y_test, y_proba_rf):.4f}\")"
   ]
  },
  {
   "cell_type": "code",
   "execution_count": null,
   "id": "74390bd8",
   "metadata": {},
   "outputs": [
    {
     "name": "stdout",
     "output_type": "stream",
     "text": [
      "Naive Bayes Performance:\n",
      "Accuracy:  0.6143\n",
      "Precision: 0.5161\n",
      "Recall:    0.1875\n",
      "F1 Score:  0.2751\n",
      "ROC-AUC:   0.6088\n"
     ]
    }
   ],
   "source": [
    "nb = GaussianNB()\n",
    "nb.fit(X_train, y_train)\n",
    "\n",
    "\n",
    "y_pred_nb = nb.predict(X_test)\n",
    "y_proba_nb = nb.predict_proba(X_test)[:, 1]\n",
    "\n",
    "\n",
    "print(\"Naive Bayes Performance:\")\n",
    "print(f\"Accuracy:  {accuracy_score(y_test, y_pred_nb):.4f}\")\n",
    "print(f\"Precision: {precision_score(y_test, y_pred_nb):.4f}\")\n",
    "print(f\"Recall:    {recall_score(y_test, y_pred_nb):.4f}\")\n",
    "print(f\"F1 Score:  {f1_score(y_test, y_pred_nb):.4f}\")\n",
    "print(f\"ROC-AUC:   {roc_auc_score(y_test, y_proba_nb):.4f}\")"
   ]
  },
  {
   "cell_type": "code",
   "execution_count": null,
   "id": "7f264ab1",
   "metadata": {},
   "outputs": [
    {
     "name": "stdout",
     "output_type": "stream",
     "text": [
      "Gradient Boosting Performance:\n",
      "Accuracy:  0.6509\n",
      "Precision: 0.6364\n",
      "Recall:    0.2461\n",
      "F1 Score:  0.3549\n",
      "ROC-AUC:   0.6560\n"
     ]
    }
   ],
   "source": [
    "gb = GradientBoostingClassifier(random_state=42)\n",
    "gb.fit(X_train, y_train)\n",
    "\n",
    "\n",
    "y_pred_gb = gb.predict(X_test)\n",
    "y_proba_gb = gb.predict_proba(X_test)[:, 1]\n",
    "\n",
    "\n",
    "print(\"Gradient Boosting Performance:\")\n",
    "print(f\"Accuracy:  {accuracy_score(y_test, y_pred_gb):.4f}\")\n",
    "print(f\"Precision: {precision_score(y_test, y_pred_gb):.4f}\")\n",
    "print(f\"Recall:    {recall_score(y_test, y_pred_gb):.4f}\")\n",
    "print(f\"F1 Score:  {f1_score(y_test, y_pred_gb):.4f}\")\n",
    "print(f\"ROC-AUC:   {roc_auc_score(y_test, y_proba_gb):.4f}\")"
   ]
  },
  {
   "cell_type": "code",
   "execution_count": 85,
   "id": "c7a94b5a",
   "metadata": {},
   "outputs": [
    {
     "name": "stdout",
     "output_type": "stream",
     "text": [
      "AdaBoost Performance:\n",
      "Accuracy:  0.6189\n",
      "Precision: 0.6000\n",
      "Recall:    0.0703\n",
      "F1 Score:  0.1259\n",
      "ROC-AUC:   0.5823\n"
     ]
    }
   ],
   "source": [
    "ab = AdaBoostClassifier(n_estimators=100, random_state=42)\n",
    "ab.fit(X_train, y_train)\n",
    "\n",
    "y_pred_ab = ab.predict(X_test)\n",
    "y_proba_ab = ab.predict_proba(X_test)[:, 1]\n",
    "\n",
    "print(\"AdaBoost Performance:\")\n",
    "print(f\"Accuracy:  {accuracy_score(y_test, y_pred_ab):.4f}\")\n",
    "print(f\"Precision: {precision_score(y_test, y_pred_ab):.4f}\")\n",
    "print(f\"Recall:    {recall_score(y_test, y_pred_ab):.4f}\")\n",
    "print(f\"F1 Score:  {f1_score(y_test, y_pred_ab):.4f}\")\n",
    "print(f\"ROC-AUC:   {roc_auc_score(y_test, y_proba_ab):.4f}\")"
   ]
  },
  {
   "cell_type": "markdown",
   "id": "03958fb2",
   "metadata": {},
   "source": [
    "OVERALL ANALYSIS"
   ]
  },
  {
   "cell_type": "markdown",
   "id": "7f57f1e8",
   "metadata": {},
   "source": [
    "| Model                    | Accuracy | Precision | Recall | F1 Score | ROC-AUC |\n",
    "| ------------------------ | -------- | --------- | ------ | -------- | ------- |\n",
    "| Logistic Regression      | 0.6098   | 0.0000    | 0.0000 | 0.0000   | 0.5484  |\n",
    "| Logistic Regression (L1) | 0.6098   | 0.0000    | 0.0000 | 0.0000   | 0.5485  |\n",
    "| Logistic Regression (L2) | 0.6098   | 0.0000    | 0.0000 | 0.0000   | 0.5484  |\n",
    "| KNN Classifier           | 0.6113   | 0.5031    | 0.3203 | 0.3914   | 0.5991  |\n",
    "| SVM Classifier           | 0.6692   | 0.6970    | 0.2695 | 0.3887   | 0.6481  |\n",
    "| Decision Tree            | 0.6326   | 0.6119    | 0.1602 | 0.2539   | 0.5656  |\n",
    "| Random Forest            | 0.6555   | 0.6154    | 0.3125 | 0.4145   | 0.6430  |\n",
    "| Naive Bayes              | 0.6143   | 0.5161    | 0.1875 | 0.2751   | 0.6088  |\n",
    "| Gradient Boosting        | 0.6509   | 0.6364    | 0.2461 | 0.3549   | 0.6560  |\n",
    "| AdaBoost                 | 0.6189   | 0.6000    | 0.0703 | 0.1259   | 0.5823  |"
   ]
  },
  {
   "cell_type": "code",
   "execution_count": 87,
   "id": "1846ed94",
   "metadata": {},
   "outputs": [
    {
     "name": "stdout",
     "output_type": "stream",
     "text": [
      "Model and Scaler loaded successfully!\n"
     ]
    }
   ],
   "source": [
    "\n",
    "import pickle\n",
    "\n",
    "filename = \"water_potability_svm.sav\"\n",
    "\n",
    "with open(filename, \"wb\") as f:\n",
    "    pickle.dump((model, scaler), f)\n",
    "\n",
    "with open(filename, \"rb\") as f:\n",
    "    loaded_model, loaded_scaler = pickle.load(f)\n",
    "\n",
    "print(\"Model and Scaler loaded successfully!\")"
   ]
  }
 ],
 "metadata": {
  "kernelspec": {
   "display_name": "Python (myenv)",
   "language": "python",
   "name": "myenv"
  },
  "language_info": {
   "codemirror_mode": {
    "name": "ipython",
    "version": 3
   },
   "file_extension": ".py",
   "mimetype": "text/x-python",
   "name": "python",
   "nbconvert_exporter": "python",
   "pygments_lexer": "ipython3",
   "version": "3.13.5"
  }
 },
 "nbformat": 4,
 "nbformat_minor": 5
}
